{
 "cells": [
  {
   "attachments": {},
   "cell_type": "markdown",
   "metadata": {
    "tags": [
     "pdf-title"
    ]
   },
   "source": [
    "# Dropout\n",
    "Dropout [1] is a technique for regularizing neural networks by randomly setting some output activations to zero during the forward pass. In this exercise, you will implement a dropout layer and modify your fully connected network to optionally use dropout.\n",
    "\n",
    "[1] [Geoffrey E. Hinton et al, \"Improving neural networks by preventing co-adaptation of feature detectors\", arXiv 2012](https://arxiv.org/abs/1207.0580)"
   ]
  },
  {
   "cell_type": "code",
   "execution_count": 22,
   "metadata": {
    "tags": [
     "pdf-ignore"
    ]
   },
   "outputs": [
    {
     "name": "stdout",
     "output_type": "stream",
     "text": [
      "The autoreload extension is already loaded. To reload it, use:\n",
      "  %reload_ext autoreload\n"
     ]
    }
   ],
   "source": [
    "# Setup cell.\n",
    "import time\n",
    "import numpy as np\n",
    "import matplotlib.pyplot as plt\n",
    "from cs231n.classifiers.fc_net import *\n",
    "from cs231n.data_utils import get_CIFAR10_data\n",
    "from cs231n.gradient_check import eval_numerical_gradient, eval_numerical_gradient_array\n",
    "from cs231n.solver import Solver\n",
    "\n",
    "%matplotlib inline\n",
    "plt.rcParams[\"figure.figsize\"] = (10.0, 8.0)  # Set default size of plots.\n",
    "plt.rcParams[\"image.interpolation\"] = \"nearest\"\n",
    "plt.rcParams[\"image.cmap\"] = \"gray\"\n",
    "\n",
    "%load_ext autoreload\n",
    "%autoreload 2\n",
    "\n",
    "def rel_error(x, y):\n",
    "    \"\"\"Returns relative error.\"\"\"\n",
    "    return np.max(np.abs(x - y) / (np.maximum(1e-8, np.abs(x) + np.abs(y))))"
   ]
  },
  {
   "cell_type": "code",
   "execution_count": 23,
   "metadata": {
    "tags": [
     "pdf-ignore"
    ]
   },
   "outputs": [
    {
     "name": "stdout",
     "output_type": "stream",
     "text": [
      "X_train: (49000, 3, 32, 32)\n",
      "y_train: (49000,)\n",
      "X_val: (1000, 3, 32, 32)\n",
      "y_val: (1000,)\n",
      "X_test: (1000, 3, 32, 32)\n",
      "y_test: (1000,)\n"
     ]
    }
   ],
   "source": [
    "# Load the (preprocessed) CIFAR-10 data.\n",
    "data = get_CIFAR10_data()\n",
    "for k, v in list(data.items()):\n",
    "    print(f\"{k}: {v.shape}\")"
   ]
  },
  {
   "attachments": {},
   "cell_type": "markdown",
   "metadata": {},
   "source": [
    "# Dropout: Forward Pass\n",
    "In the file `cs231n/layers.py`, implement the forward pass for dropout. Since dropout behaves differently during training and testing, make sure to implement the operation for both modes.\n",
    "\n",
    "Once you have done so, run the cell below to test your implementation."
   ]
  },
  {
   "cell_type": "code",
   "execution_count": 24,
   "metadata": {},
   "outputs": [
    {
     "name": "stdout",
     "output_type": "stream",
     "text": [
      "Running tests with p =  0.25\n",
      "Mean of input:  10.000207878477502\n",
      "Mean of train-time output:  10.014059116977283\n",
      "Mean of test-time output:  10.000207878477502\n",
      "Fraction of train-time output set to zero:  0.749784\n",
      "Fraction of test-time output set to zero:  0.0\n",
      "\n",
      "Running tests with p =  0.4\n",
      "Mean of input:  10.000207878477502\n",
      "Mean of train-time output:  9.977917658761159\n",
      "Mean of test-time output:  10.000207878477502\n",
      "Fraction of train-time output set to zero:  0.600796\n",
      "Fraction of test-time output set to zero:  0.0\n",
      "\n",
      "Running tests with p =  0.7\n",
      "Mean of input:  10.000207878477502\n",
      "Mean of train-time output:  9.987811912159426\n",
      "Mean of test-time output:  10.000207878477502\n",
      "Fraction of train-time output set to zero:  0.30074\n",
      "Fraction of test-time output set to zero:  0.0\n",
      "\n"
     ]
    }
   ],
   "source": [
    "np.random.seed(231)\n",
    "x = np.random.randn(500, 500) + 10\n",
    "\n",
    "for p in [0.25, 0.4, 0.7]:\n",
    "    out, _ = dropout_forward(x, {'mode': 'train', 'p': p})\n",
    "    out_test, _ = dropout_forward(x, {'mode': 'test', 'p': p})\n",
    "\n",
    "    print('Running tests with p = ', p)\n",
    "    print('Mean of input: ', x.mean())\n",
    "    print('Mean of train-time output: ', out.mean())\n",
    "    print('Mean of test-time output: ', out_test.mean())\n",
    "    print('Fraction of train-time output set to zero: ', (out == 0).mean())\n",
    "    print('Fraction of test-time output set to zero: ', (out_test == 0).mean())\n",
    "    print()"
   ]
  },
  {
   "cell_type": "code",
   "execution_count": 25,
   "metadata": {},
   "outputs": [
    {
     "name": "stdout",
     "output_type": "stream",
     "text": [
      "Running tests with p =  0.25\n",
      "Mean of input:  10.000207878477502\n",
      "Mean of train-time output:  10.014059116977283\n",
      "Mean of test-time output:  10.000207878477502\n",
      "Fraction of train-time output set to zero:  0.749784\n",
      "Fraction of test-time output set to zero:  0.0\n",
      "\n",
      "Running tests with p =  0.4\n",
      "Mean of input:  10.000207878477502\n",
      "Mean of train-time output:  9.977917658761159\n",
      "Mean of test-time output:  10.000207878477502\n",
      "Fraction of train-time output set to zero:  0.600796\n",
      "Fraction of test-time output set to zero:  0.0\n",
      "\n",
      "Running tests with p =  0.7\n",
      "Mean of input:  10.000207878477502\n",
      "Mean of train-time output:  9.987811912159426\n",
      "Mean of test-time output:  10.000207878477502\n",
      "Fraction of train-time output set to zero:  0.30074\n",
      "Fraction of test-time output set to zero:  0.0\n",
      "\n"
     ]
    }
   ],
   "source": [
    "# Without /p in training time forward pass\n",
    "\n",
    "np.random.seed(231)\n",
    "x = np.random.randn(500, 500) + 10\n",
    "\n",
    "for p in [0.25, 0.4, 0.7]:\n",
    "    out, _ = dropout_forward(x, {'mode': 'train', 'p': p})\n",
    "    out_test, _ = dropout_forward(x, {'mode': 'test', 'p': p})\n",
    "\n",
    "    print('Running tests with p = ', p)\n",
    "    print('Mean of input: ', x.mean())\n",
    "    print('Mean of train-time output: ', out.mean())\n",
    "    print('Mean of test-time output: ', out_test.mean())\n",
    "    print('Fraction of train-time output set to zero: ', (out == 0).mean())\n",
    "    print('Fraction of test-time output set to zero: ', (out_test == 0).mean())\n",
    "    print()"
   ]
  },
  {
   "attachments": {},
   "cell_type": "markdown",
   "metadata": {},
   "source": [
    "# Dropout: Backward Pass\n",
    "In the file `cs231n/layers.py`, implement the backward pass for dropout. After doing so, run the following cell to numerically gradient-check your implementation."
   ]
  },
  {
   "cell_type": "code",
   "execution_count": 26,
   "metadata": {},
   "outputs": [
    {
     "name": "stdout",
     "output_type": "stream",
     "text": [
      "dx relative error:  5.44560814873387e-11\n"
     ]
    }
   ],
   "source": [
    "np.random.seed(231)\n",
    "x = np.random.randn(10, 10) + 10\n",
    "dout = np.random.randn(*x.shape)\n",
    "\n",
    "dropout_param = {'mode': 'train', 'p': 0.2, 'seed': 123}\n",
    "out, cache = dropout_forward(x, dropout_param)\n",
    "dx = dropout_backward(dout, cache)\n",
    "dx_num = eval_numerical_gradient_array(lambda xx: dropout_forward(xx, dropout_param)[0], x, dout)\n",
    "\n",
    "# Error should be around e-10 or less.\n",
    "print('dx relative error: ', rel_error(dx, dx_num))"
   ]
  },
  {
   "attachments": {},
   "cell_type": "markdown",
   "metadata": {
    "tags": [
     "pdf-inline"
    ]
   },
   "source": [
    "## Inline Question 1:\n",
    "What happens if we do not divide the values being passed through inverse dropout by `p` in the dropout layer? Why does that happen?\n",
    "\n",
    "## Answer:\n",
    "The means for the training type forward pass and the testing forward pass differ"
   ]
  },
  {
   "attachments": {},
   "cell_type": "markdown",
   "metadata": {},
   "source": [
    "# Fully Connected Networks with Dropout\n",
    "In the file `cs231n/classifiers/fc_net.py`, modify your implementation to use dropout. Specifically, if the constructor of the network receives a value that is not 1 for the `dropout_keep_ratio` parameter, then the net should add a dropout layer immediately after every ReLU nonlinearity. After doing so, run the following to numerically gradient-check your implementation."
   ]
  },
  {
   "cell_type": "code",
   "execution_count": 27,
   "metadata": {},
   "outputs": [
    {
     "name": "stdout",
     "output_type": "stream",
     "text": [
      "Running check with dropout =  1\n",
      "Initial loss:  2.300479089768492\n",
      "W1 relative error: 1.48e-07\n",
      "W2 relative error: 2.26e-04\n",
      "W3 relative error: 4.56e-07\n",
      "b1 relative error: 4.66e-09\n",
      "b2 relative error: 2.09e-09\n",
      "b3 relative error: 1.46e-10\n",
      "\n",
      "Running check with dropout =  0.75\n",
      "Initial loss:  2.302371489704412\n",
      "W1 relative error: 1.85e-07\n",
      "W2 relative error: 2.15e-06\n",
      "W3 relative error: 4.56e-08\n",
      "b1 relative error: 1.76e-09\n",
      "b2 relative error: 1.82e-09\n",
      "b3 relative error: 1.40e-10\n",
      "\n",
      "Running check with dropout =  0.5\n",
      "Initial loss:  2.30427592207859\n",
      "W1 relative error: 5.75e-07\n",
      "W2 relative error: 2.48e-08\n",
      "W3 relative error: 6.43e-08\n",
      "b1 relative error: 2.58e-08\n",
      "b2 relative error: 2.99e-09\n",
      "b3 relative error: 9.54e-11\n",
      "\n"
     ]
    }
   ],
   "source": [
    "np.random.seed(231)\n",
    "N, D, H1, H2, C = 2, 15, 20, 30, 10\n",
    "X = np.random.randn(N, D)\n",
    "y = np.random.randint(C, size=(N,))\n",
    "\n",
    "for dropout_keep_ratio in [1, 0.75, 0.5]:\n",
    "    print('Running check with dropout = ', dropout_keep_ratio)\n",
    "    model = FullyConnectedNet(\n",
    "        [H1, H2],\n",
    "        input_dim=D,\n",
    "        num_classes=C,\n",
    "        weight_scale=5e-2,\n",
    "        dtype=np.float64,\n",
    "        dropout_keep_ratio=dropout_keep_ratio,\n",
    "        seed=123\n",
    "    )\n",
    "\n",
    "    loss, grads = model.loss(X, y)\n",
    "    print('Initial loss: ', loss)\n",
    "\n",
    "    # Relative errors should be around e-6 or less.\n",
    "    # Note that it's fine if for dropout_keep_ratio=1 you have W2 error be on the order of e-5.\n",
    "    for name in sorted(grads):\n",
    "        f = lambda _: model.loss(X, y)[0]\n",
    "        grad_num = eval_numerical_gradient(f, model.params[name], verbose=False, h=1e-5)\n",
    "        print('%s relative error: %.2e' % (name, rel_error(grad_num, grads[name])))\n",
    "    print()"
   ]
  },
  {
   "attachments": {},
   "cell_type": "markdown",
   "metadata": {},
   "source": [
    "# Regularization Experiment\n",
    "As an experiment, we will train a pair of two-layer networks on 500 training examples: one will use no dropout, and one will use a keep probability of 0.25. We will then visualize the training and validation accuracies of the two networks over time."
   ]
  },
  {
   "cell_type": "code",
   "execution_count": 31,
   "metadata": {
    "scrolled": false
   },
   "outputs": [
    {
     "name": "stdout",
     "output_type": "stream",
     "text": [
      "1\n",
      "(Iteration 1 / 125) loss: 7.856643\n",
      "(Epoch 0 / 25) train acc: 0.260000; val_acc: 0.184000\n",
      "(Epoch 1 / 25) train acc: 0.416000; val_acc: 0.258000\n",
      "(Epoch 2 / 25) train acc: 0.482000; val_acc: 0.276000\n",
      "(Epoch 3 / 25) train acc: 0.532000; val_acc: 0.277000\n",
      "(Epoch 4 / 25) train acc: 0.102000; val_acc: 0.087000\n",
      "(Epoch 5 / 25) train acc: 0.102000; val_acc: 0.087000\n",
      "(Epoch 6 / 25) train acc: 0.102000; val_acc: 0.087000\n",
      "(Epoch 7 / 25) train acc: 0.102000; val_acc: 0.087000\n",
      "(Epoch 8 / 25) train acc: 0.102000; val_acc: 0.087000\n",
      "(Epoch 9 / 25) train acc: 0.102000; val_acc: 0.087000\n",
      "(Epoch 10 / 25) train acc: 0.102000; val_acc: 0.087000\n",
      "(Epoch 11 / 25) train acc: 0.102000; val_acc: 0.087000\n",
      "(Epoch 12 / 25) train acc: 0.102000; val_acc: 0.087000\n",
      "(Epoch 13 / 25) train acc: 0.102000; val_acc: 0.087000\n",
      "(Epoch 14 / 25) train acc: 0.102000; val_acc: 0.087000\n",
      "(Epoch 15 / 25) train acc: 0.102000; val_acc: 0.087000\n",
      "(Epoch 16 / 25) train acc: 0.102000; val_acc: 0.087000\n",
      "(Epoch 17 / 25) train acc: 0.102000; val_acc: 0.087000\n",
      "(Epoch 18 / 25) train acc: 0.102000; val_acc: 0.087000\n",
      "(Epoch 19 / 25) train acc: 0.102000; val_acc: 0.087000\n",
      "(Epoch 20 / 25) train acc: 0.102000; val_acc: 0.087000\n",
      "(Iteration 101 / 125) loss: nan\n",
      "(Epoch 21 / 25) train acc: 0.102000; val_acc: 0.087000\n",
      "(Epoch 22 / 25) train acc: 0.102000; val_acc: 0.087000\n",
      "(Epoch 23 / 25) train acc: 0.102000; val_acc: 0.087000\n"
     ]
    },
    {
     "ename": "KeyboardInterrupt",
     "evalue": "",
     "output_type": "error",
     "traceback": [
      "\u001b[0;31m---------------------------------------------------------------------------\u001b[0m",
      "\u001b[0;31mKeyboardInterrupt\u001b[0m                         Traceback (most recent call last)",
      "Cell \u001b[0;32mIn[31], line 30\u001b[0m\n\u001b[1;32m     18\u001b[0m \u001b[39mprint\u001b[39m(dropout_keep_ratio)\n\u001b[1;32m     20\u001b[0m solver \u001b[39m=\u001b[39m Solver(\n\u001b[1;32m     21\u001b[0m     model,\n\u001b[1;32m     22\u001b[0m     small_data,\n\u001b[0;32m   (...)\u001b[0m\n\u001b[1;32m     28\u001b[0m     print_every\u001b[39m=\u001b[39m\u001b[39m100\u001b[39m\n\u001b[1;32m     29\u001b[0m )\n\u001b[0;32m---> 30\u001b[0m solver\u001b[39m.\u001b[39;49mtrain()\n\u001b[1;32m     31\u001b[0m solvers[dropout_keep_ratio] \u001b[39m=\u001b[39m solver\n\u001b[1;32m     32\u001b[0m \u001b[39mprint\u001b[39m()\n",
      "File \u001b[0;32m~/Dev/cs231n/assignment2/cs231n/solver.py:263\u001b[0m, in \u001b[0;36mSolver.train\u001b[0;34m(self)\u001b[0m\n\u001b[1;32m    260\u001b[0m num_iterations \u001b[39m=\u001b[39m \u001b[39mself\u001b[39m\u001b[39m.\u001b[39mnum_epochs \u001b[39m*\u001b[39m iterations_per_epoch\n\u001b[1;32m    262\u001b[0m \u001b[39mfor\u001b[39;00m t \u001b[39min\u001b[39;00m \u001b[39mrange\u001b[39m(num_iterations):\n\u001b[0;32m--> 263\u001b[0m     \u001b[39mself\u001b[39;49m\u001b[39m.\u001b[39;49m_step()\n\u001b[1;32m    265\u001b[0m     \u001b[39m# Maybe print training loss\u001b[39;00m\n\u001b[1;32m    266\u001b[0m     \u001b[39mif\u001b[39;00m \u001b[39mself\u001b[39m\u001b[39m.\u001b[39mverbose \u001b[39mand\u001b[39;00m t \u001b[39m%\u001b[39m \u001b[39mself\u001b[39m\u001b[39m.\u001b[39mprint_every \u001b[39m==\u001b[39m \u001b[39m0\u001b[39m:\n",
      "File \u001b[0;32m~/Dev/cs231n/assignment2/cs231n/solver.py:181\u001b[0m, in \u001b[0;36mSolver._step\u001b[0;34m(self)\u001b[0m\n\u001b[1;32m    178\u001b[0m y_batch \u001b[39m=\u001b[39m \u001b[39mself\u001b[39m\u001b[39m.\u001b[39my_train[batch_mask]\n\u001b[1;32m    180\u001b[0m \u001b[39m# Compute loss and gradient\u001b[39;00m\n\u001b[0;32m--> 181\u001b[0m loss, grads \u001b[39m=\u001b[39m \u001b[39mself\u001b[39;49m\u001b[39m.\u001b[39;49mmodel\u001b[39m.\u001b[39;49mloss(X_batch, y_batch)\n\u001b[1;32m    182\u001b[0m \u001b[39mself\u001b[39m\u001b[39m.\u001b[39mloss_history\u001b[39m.\u001b[39mappend(loss)\n\u001b[1;32m    184\u001b[0m \u001b[39m# Perform a parameter update\u001b[39;00m\n",
      "File \u001b[0;32m~/Dev/cs231n/assignment2/cs231n/classifiers/fc_net.py:218\u001b[0m, in \u001b[0;36mFullyConnectedNet.loss\u001b[0;34m(self, X, y)\u001b[0m\n\u001b[1;32m    216\u001b[0m \u001b[39mif\u001b[39;00m \u001b[39mself\u001b[39m\u001b[39m.\u001b[39mnormalization \u001b[39mis\u001b[39;00m \u001b[39mNone\u001b[39;00m:\n\u001b[1;32m    217\u001b[0m     \u001b[39mfor\u001b[39;00m i \u001b[39min\u001b[39;00m \u001b[39mrange\u001b[39m(nlayers \u001b[39m-\u001b[39m \u001b[39m1\u001b[39m, \u001b[39m0\u001b[39m, \u001b[39m-\u001b[39m\u001b[39m1\u001b[39m):\n\u001b[0;32m--> 218\u001b[0m         dout, grads[\u001b[39mf\u001b[39m\u001b[39m\"\u001b[39m\u001b[39mW\u001b[39m\u001b[39m{\u001b[39;00mi\u001b[39m}\u001b[39;00m\u001b[39m\"\u001b[39m], grads[\u001b[39mf\u001b[39m\u001b[39m\"\u001b[39m\u001b[39mb\u001b[39m\u001b[39m{\u001b[39;00mi\u001b[39m}\u001b[39;00m\u001b[39m\"\u001b[39m] \u001b[39m=\u001b[39m gen_affine_relu_backward(dout, caches[i], \u001b[39mself\u001b[39;49m\u001b[39m.\u001b[39;49muse_dropout)\n\u001b[1;32m    219\u001b[0m         grads[\u001b[39mf\u001b[39m\u001b[39m\"\u001b[39m\u001b[39mW\u001b[39m\u001b[39m{\u001b[39;00mi\u001b[39m}\u001b[39;00m\u001b[39m\"\u001b[39m] \u001b[39m+\u001b[39m\u001b[39m=\u001b[39m \u001b[39mself\u001b[39m\u001b[39m.\u001b[39mreg\u001b[39m*\u001b[39m\u001b[39mself\u001b[39m\u001b[39m.\u001b[39mparams[\u001b[39mf\u001b[39m\u001b[39m\"\u001b[39m\u001b[39mW\u001b[39m\u001b[39m{\u001b[39;00mi\u001b[39m}\u001b[39;00m\u001b[39m\"\u001b[39m] \u001b[39m# add l2 loss grad for each layer\u001b[39;00m\n\u001b[1;32m    220\u001b[0m         loss \u001b[39m+\u001b[39m\u001b[39m=\u001b[39m l2_loss_grad(i) \u001b[39m# add l2 loss for each layer\u001b[39;00m\n",
      "File \u001b[0;32m~/Dev/cs231n/assignment2/cs231n/layer_utils.py:94\u001b[0m, in \u001b[0;36mgen_affine_relu_backward\u001b[0;34m(dout, cache, use_dropout)\u001b[0m\n\u001b[1;32m     90\u001b[0m     dout \u001b[39m=\u001b[39m dropout_backward(dout, dropout_cache)\n\u001b[1;32m     92\u001b[0m dout \u001b[39m=\u001b[39m relu_backward(dout, relu_cache)\n\u001b[0;32m---> 94\u001b[0m dx, dw, db \u001b[39m=\u001b[39m affine_backward(dout, fc_cache)\n\u001b[1;32m     96\u001b[0m \u001b[39mreturn\u001b[39;00m dx, dw, db\n",
      "File \u001b[0;32m~/Dev/cs231n/assignment2/cs231n/layers.py:64\u001b[0m, in \u001b[0;36maffine_backward\u001b[0;34m(dout, cache)\u001b[0m\n\u001b[1;32m     62\u001b[0m dx \u001b[39m=\u001b[39m (dout \u001b[39m@\u001b[39m w\u001b[39m.\u001b[39mT)\u001b[39m.\u001b[39mreshape(x\u001b[39m.\u001b[39mshape)\n\u001b[1;32m     63\u001b[0m dw \u001b[39m=\u001b[39m x\u001b[39m.\u001b[39mreshape(x\u001b[39m.\u001b[39mshape[\u001b[39m0\u001b[39m], \u001b[39m-\u001b[39m\u001b[39m1\u001b[39m)\u001b[39m.\u001b[39mT \u001b[39m@\u001b[39m dout \u001b[39m# (D X N) @ (N X M)\u001b[39;00m\n\u001b[0;32m---> 64\u001b[0m db \u001b[39m=\u001b[39m np\u001b[39m.\u001b[39;49msum(dout, axis\u001b[39m=\u001b[39;49m\u001b[39m0\u001b[39;49m)\n\u001b[1;32m     66\u001b[0m \u001b[39m# *****END OF YOUR CODE (DO NOT DELETE/MODIFY THIS LINE)*****\u001b[39;00m\n\u001b[1;32m     67\u001b[0m \u001b[39m###########################################################################\u001b[39;00m\n\u001b[1;32m     68\u001b[0m \u001b[39m#                             END OF YOUR CODE                            #\u001b[39;00m\n\u001b[1;32m     69\u001b[0m \u001b[39m###########################################################################\u001b[39;00m\n\u001b[1;32m     70\u001b[0m \u001b[39mreturn\u001b[39;00m dx, dw, db\n",
      "File \u001b[0;32m<__array_function__ internals>:177\u001b[0m, in \u001b[0;36msum\u001b[0;34m(*args, **kwargs)\u001b[0m\n",
      "\u001b[0;31mKeyboardInterrupt\u001b[0m: "
     ]
    }
   ],
   "source": [
    "# Train two identical nets, one with dropout and one without.\n",
    "np.random.seed(231)\n",
    "num_train = 500\n",
    "small_data = {\n",
    "    'X_train': data['X_train'][:num_train],\n",
    "    'y_train': data['y_train'][:num_train],\n",
    "    'X_val': data['X_val'],\n",
    "    'y_val': data['y_val'],\n",
    "}\n",
    "\n",
    "solvers = {}\n",
    "dropout_choices = [1, 0.75]\n",
    "for dropout_keep_ratio in dropout_choices:\n",
    "    model = FullyConnectedNet(\n",
    "        [500],\n",
    "        dropout_keep_ratio=dropout_keep_ratio\n",
    "    )\n",
    "    print(dropout_keep_ratio)\n",
    "\n",
    "    solver = Solver(\n",
    "        model,\n",
    "        small_data,\n",
    "        num_epochs=25,\n",
    "        batch_size=100,\n",
    "        update_rule='adam',\n",
    "        optim_config={'learning_rate': 5e-4,},\n",
    "        verbose=True,\n",
    "        print_every=100\n",
    "    )\n",
    "    solver.train()\n",
    "    solvers[dropout_keep_ratio] = solver\n",
    "    print()"
   ]
  },
  {
   "cell_type": "code",
   "execution_count": 30,
   "metadata": {},
   "outputs": [
    {
     "data": {
      "image/png": "[encoded data removed]",
      "text/plain": [
       "<Figure size 1500x1500 with 2 Axes>"
      ]
     },
     "metadata": {},
     "output_type": "display_data"
    }
   ],
   "source": [
    "# Plot train and validation accuracies of the two models.\n",
    "train_accs = []\n",
    "val_accs = []\n",
    "for dropout_keep_ratio in dropout_choices:\n",
    "    solver = solvers[dropout_keep_ratio]\n",
    "    train_accs.append(solver.train_acc_history[-1])\n",
    "    val_accs.append(solver.val_acc_history[-1])\n",
    "\n",
    "plt.subplot(3, 1, 1)\n",
    "for dropout_keep_ratio in dropout_choices:\n",
    "    plt.plot(\n",
    "        solvers[dropout_keep_ratio].train_acc_history, 'o', label='%.2f dropout_keep_ratio' % dropout_keep_ratio)\n",
    "plt.title('Train accuracy')\n",
    "plt.xlabel('Epoch')\n",
    "plt.ylabel('Accuracy')\n",
    "plt.legend(ncol=2, loc='lower right')\n",
    "  \n",
    "plt.subplot(3, 1, 2)\n",
    "for dropout_keep_ratio in dropout_choices:\n",
    "    plt.plot(\n",
    "        solvers[dropout_keep_ratio].val_acc_history, 'o', label='%.2f dropout_keep_ratio' % dropout_keep_ratio)\n",
    "plt.title('Val accuracy')\n",
    "plt.xlabel('Epoch')\n",
    "plt.ylabel('Accuracy')\n",
    "plt.legend(ncol=2, loc='lower right')\n",
    "\n",
    "plt.gcf().set_size_inches(15, 15)\n",
    "plt.show()"
   ]
  },
  {
   "attachments": {},
   "cell_type": "markdown",
   "metadata": {
    "tags": [
     "pdf-inline"
    ]
   },
   "source": [
    "## Inline Question 2:\n",
    "Compare the validation and training accuracies with and without dropout -- what do your results suggest about dropout as a regularizer?\n",
    "\n",
    "## Answer:\n",
    "[FILL THIS IN]\n"
   ]
  }
 ],
 "metadata": {
  "kernelspec": {
   "display_name": "Python 3",
   "language": "python",
   "name": "python3"
  },
  "language_info": {
   "codemirror_mode": {
    "name": "ipython",
    "version": 3
   },
   "file_extension": ".py",
   "mimetype": "text/x-python",
   "name": "python",
   "nbconvert_exporter": "python",
   "pygments_lexer": "ipython3",
   "version": "3.11.3"
  }
 },
 "nbformat": 4,
 "nbformat_minor": 2
}
